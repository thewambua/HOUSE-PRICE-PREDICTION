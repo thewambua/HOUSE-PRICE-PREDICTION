{
  "nbformat": 4,
  "nbformat_minor": 0,
  "metadata": {
    "colab": {
      "provenance": [],
      "toc_visible": true,
      "mount_file_id": "1bC1tD-IkQVv2hse78eyPx4157vvsknxe",
      "authorship_tag": "ABX9TyNcUN0feukESQTc4HyCQrQd",
      "include_colab_link": true
    },
    "kernelspec": {
      "name": "python3",
      "display_name": "Python 3"
    },
    "language_info": {
      "name": "python"
    }
  },
  "cells": [
    {
      "cell_type": "markdown",
      "metadata": {
        "id": "view-in-github",
        "colab_type": "text"
      },
      "source": [
        "<a href=\"https://colab.research.google.com/github/thewambua/HOUSE-PRICE-PREDICTION/blob/main/houseprice-linear.ipynb\" target=\"_parent\"><img src=\"https://colab.research.google.com/assets/colab-badge.svg\" alt=\"Open In Colab\"/></a>"
      ]
    },
    {
      "cell_type": "markdown",
      "source": [],
      "metadata": {
        "id": "relPyLgJaIQ2"
      }
    },
    {
      "cell_type": "markdown",
      "source": [
        "# New Section"
      ],
      "metadata": {
        "id": "yhiC6EHEfxZw"
      }
    },
    {
      "cell_type": "code",
      "source": [
        "# Import necessary libraries\n",
        "import pandas as pd\n",
        "import numpy as np\n",
        "\n",
        "# Load the data\n",
        "df = pd.read_csv('Real estate.csv')\n",
        "\n",
        "df.head(\n",
        "\n",
        ")\n",
        "\n",
        "from sklearn.model_selection import train_test_split\n",
        "from sklearn.linear_model import LinearRegression\n",
        "from sklearn.metrics import mean_squared_error, mean_absolute_error\n",
        "\n",
        "\n",
        "#Label Encoding\n",
        "from sklearn.preprocessing import LabelEncoder\n",
        "\n",
        "l = LabelEncoder()\n",
        "for col in df.columns:\n",
        "    if df[col].dtype == object:\n",
        "        df[col] = l.fit_transform(df[col])\n",
        "df\n",
        "\n",
        "\n",
        "# Split the data into training and testing sets\n",
        "X = df.drop('Y house price of unit area', axis=1)\n",
        "y = df['Y house price of unit area']\n",
        "X_train, X_test, y_train, y_test = train_test_split(X, y, test_size=0.2, random_state=42)\n",
        "\n",
        "# Create and train the model\n",
        "model = LinearRegression()\n",
        "model.fit(X_train, y_train)\n",
        "\n",
        "# Make predictions\n",
        "predictions = model.predict(X_test)\n",
        "\n",
        "# Calculate and print the metrics\n",
        "mse = mean_squared_error(y_test, predictions)\n",
        "mae = mean_absolute_error(y_test, predictions)\n",
        "rmse = np.sqrt(mse)\n",
        "\n",
        "print(f'MSE: {mse}')\n",
        "print(f'MAE: {mae}')\n",
        "print(f'RMSE: {rmse}')"
      ],
      "metadata": {
        "colab": {
          "base_uri": "https://localhost:8080/"
        },
        "id": "85wfcpj8ajdk",
        "outputId": "9d8709e1-1b16-4a04-91cb-6c4694923e03"
      },
      "execution_count": 5,
      "outputs": [
        {
          "output_type": "stream",
          "name": "stdout",
          "text": [
            "MSE: 54.60196067337693\n",
            "MAE: 5.418035098629173\n",
            "RMSE: 7.389313951469171\n"
          ]
        }
      ]
    }
  ]
}